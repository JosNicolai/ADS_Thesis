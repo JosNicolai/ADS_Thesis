{
 "cells": [
  {
   "cell_type": "code",
   "execution_count": 1,
   "id": "84fc4b96",
   "metadata": {},
   "outputs": [],
   "source": [
    "import numpy as np\n",
    "import pandas as pd\n",
    "import pickle\n",
    "import os\n",
    "\n",
    "\n",
    "# setting the main file path to where all files are\n",
    "os.chdir(\"C:\\\\Users\\\\SJNic\\\\Documents\\\\University\\\\Master\\\\Thesis\\\\Code\")\n",
    "\n",
    "texts_dir = \"Texts/DocumentTexts/\"\n",
    "\n",
    "# getting all nonDuplicate keys\n",
    "with open(\"ProcessedMeetings/nonDuplicateDocumentsInformation.txt\", \"rb\") as fp:   \n",
    "    nonDuplicateDocumentsInformation = pickle.load(fp)"
   ]
  },
  {
   "cell_type": "code",
   "execution_count": 4,
   "id": "741995bc",
   "metadata": {},
   "outputs": [
    {
     "data": {
      "text/plain": [
       "0"
      ]
     },
     "execution_count": 4,
     "metadata": {},
     "output_type": "execute_result"
    }
   ],
   "source": [
    "# getting all keys\n",
    "keys = [file.replace(\".txt\", \"\") for file in os.listdir(texts_dir)]\n",
    "\n",
    "# retrieving all missing keys from the text documents\n",
    "missingKeys = []\n",
    "for key in keys:\n",
    "    if key not in list(nonDuplicateDocumentsInformation.keys()):\n",
    "        missingKeys.append(key)\n",
    "\n",
    "# print number of missing keys\n",
    "len(missingKeys)"
   ]
  },
  {
   "cell_type": "code",
   "execution_count": 5,
   "id": "af0e630d",
   "metadata": {},
   "outputs": [
    {
     "data": {
      "text/plain": [
       "23656"
      ]
     },
     "execution_count": 5,
     "metadata": {},
     "output_type": "execute_result"
    }
   ],
   "source": [
    "len(keys)"
   ]
  },
  {
   "cell_type": "code",
   "execution_count": 12,
   "id": "b828b0d9",
   "metadata": {},
   "outputs": [
    {
     "data": {
      "text/html": [
       "<div>\n",
       "<style scoped>\n",
       "    .dataframe tbody tr th:only-of-type {\n",
       "        vertical-align: middle;\n",
       "    }\n",
       "\n",
       "    .dataframe tbody tr th {\n",
       "        vertical-align: top;\n",
       "    }\n",
       "\n",
       "    .dataframe thead th {\n",
       "        text-align: right;\n",
       "    }\n",
       "</style>\n",
       "<table border=\"1\" class=\"dataframe\">\n",
       "  <thead>\n",
       "    <tr style=\"text-align: right;\">\n",
       "      <th></th>\n",
       "      <th>text</th>\n",
       "    </tr>\n",
       "    <tr>\n",
       "      <th>key</th>\n",
       "      <th></th>\n",
       "    </tr>\n",
       "  </thead>\n",
       "  <tbody>\n",
       "    <tr>\n",
       "      <th>00097ca8-b918-4dd3-99bf-9728d1fd5ee4</th>\n",
       "      <td>Bijlage 1 BI-zone 4 Merwedekanaalzone Zuid 2011</td>\n",
       "    </tr>\n",
       "    <tr>\n",
       "      <th>000c3f3c-4117-42e3-ba3e-45a5ccf028aa</th>\n",
       "      <td>Stand van zaken Moties, toezeggingen en brieve...</td>\n",
       "    </tr>\n",
       "    <tr>\n",
       "      <th>000f4c78-dccd-4b0f-b07d-3ba7973d66bd</th>\n",
       "      <td></td>\n",
       "    </tr>\n",
       "    <tr>\n",
       "      <th>000ff5f0-629c-4217-92c8-5ed2d3ac6d5b</th>\n",
       "      <td>03-04-19 14(21 ontwerpvoorstel aan de raad Opg...</td>\n",
       "    </tr>\n",
       "    <tr>\n",
       "      <th>00107e1b-7c6c-4147-b396-14c154fd5bb8</th>\n",
       "      <td>MPSO 2018 (cid:11)(cid:48)(cid:72)(cid:72)(cid...</td>\n",
       "    </tr>\n",
       "    <tr>\n",
       "      <th>...</th>\n",
       "      <td>...</td>\n",
       "    </tr>\n",
       "    <tr>\n",
       "      <th>ffeb6932-2100-4147-a671-10f931b06a96</th>\n",
       "      <td>Bijlage 1 - Factsheets - Herprogrammering maat...</td>\n",
       "    </tr>\n",
       "    <tr>\n",
       "      <th>fff60bef-9e93-47e3-9f11-8bd0941d084c</th>\n",
       "      <td>Optimalisatiemogelijkheden grondexploitatie St...</td>\n",
       "    </tr>\n",
       "    <tr>\n",
       "      <th>fff65d87-1368-42a0-85a0-028a36b66820</th>\n",
       "      <td>StadsOntwikkeling Bijlage bestemmingsplan Best...</td>\n",
       "    </tr>\n",
       "    <tr>\n",
       "      <th>fff9faf4-7f86-43af-a065-d803b85e1268</th>\n",
       "      <td>Verordening U-pas 2019 gemeente Utrecht De raa...</td>\n",
       "    </tr>\n",
       "    <tr>\n",
       "      <th>ffff3a5f-58f5-466f-9910-3f2866c00ee4</th>\n",
       "      <td>! ontwerp raadsbesluit Voorstel B en W d.d. Ja...</td>\n",
       "    </tr>\n",
       "  </tbody>\n",
       "</table>\n",
       "<p>23656 rows × 1 columns</p>\n",
       "</div>"
      ],
      "text/plain": [
       "                                                                                   text\n",
       "key                                                                                    \n",
       "00097ca8-b918-4dd3-99bf-9728d1fd5ee4    Bijlage 1 BI-zone 4 Merwedekanaalzone Zuid 2011\n",
       "000c3f3c-4117-42e3-ba3e-45a5ccf028aa  Stand van zaken Moties, toezeggingen en brieve...\n",
       "000f4c78-dccd-4b0f-b07d-3ba7973d66bd                                                   \n",
       "000ff5f0-629c-4217-92c8-5ed2d3ac6d5b  03-04-19 14(21 ontwerpvoorstel aan de raad Opg...\n",
       "00107e1b-7c6c-4147-b396-14c154fd5bb8  MPSO 2018 (cid:11)(cid:48)(cid:72)(cid:72)(cid...\n",
       "...                                                                                 ...\n",
       "ffeb6932-2100-4147-a671-10f931b06a96  Bijlage 1 - Factsheets - Herprogrammering maat...\n",
       "fff60bef-9e93-47e3-9f11-8bd0941d084c  Optimalisatiemogelijkheden grondexploitatie St...\n",
       "fff65d87-1368-42a0-85a0-028a36b66820  StadsOntwikkeling Bijlage bestemmingsplan Best...\n",
       "fff9faf4-7f86-43af-a065-d803b85e1268  Verordening U-pas 2019 gemeente Utrecht De raa...\n",
       "ffff3a5f-58f5-466f-9910-3f2866c00ee4  ! ontwerp raadsbesluit Voorstel B en W d.d. Ja...\n",
       "\n",
       "[23656 rows x 1 columns]"
      ]
     },
     "execution_count": 12,
     "metadata": {},
     "output_type": "execute_result"
    }
   ],
   "source": [
    "# create a dataframe with the key of every file as an index\n",
    "texts = pd.DataFrame()\n",
    "texts[\"key\"] = keys\n",
    "texts.set_index(\"key\", inplace = True)\n",
    "texts[\"text\"] = \"\"\n",
    "\n",
    "\n",
    "for key in keys:\n",
    "    text = \"\"\n",
    "    \n",
    "    with open(texts_dir + key + \".txt\", \"rb\") as fp:   \n",
    "        text = pickle.load(fp)\n",
    "    \n",
    "    # remove any potential \"\\n\" or \\'\n",
    "    text = text.replace(\"\\n\", \" \").replace(\"\\'\", \"\")\n",
    "\n",
    "    # remove any unnecessary spaces\n",
    "    text = \" \".join(text.split())\n",
    "    \n",
    "    texts.loc[key] = text\n",
    "\n",
    "texts"
   ]
  },
  {
   "cell_type": "code",
   "execution_count": 18,
   "id": "90a443d8",
   "metadata": {},
   "outputs": [
    {
     "data": {
      "text/plain": [
       "array([''], dtype=object)"
      ]
     },
     "execution_count": 18,
     "metadata": {},
     "output_type": "execute_result"
    }
   ],
   "source": [
    "texts.loc[\"000f4c78-dccd-4b0f-b07d-3ba7973d66bd\"].values"
   ]
  },
  {
   "cell_type": "code",
   "execution_count": 10,
   "id": "22c5341e",
   "metadata": {},
   "outputs": [],
   "source": [
    "# create a dataframe with the key of every file as an index\n",
    "texts = pd.DataFrame()\n",
    "texts[\"key\"] = keys\n",
    "texts.set_index(\"key\", inplace = True)\n",
    "texts[\"text\"] = \"\"\n",
    "\n",
    "i=0\n",
    "# loop through all the keys \n",
    "for key in keys:\n",
    "    text = \"\"\n",
    "\n",
    "    # open file as usual\n",
    "    try:\n",
    "        with open(texts_dir + key + '.txt') as f:\n",
    "            text = \"\".join(f.readlines())\n",
    "    # if that fails try with utf encoding\n",
    "    except:\n",
    "        try:\n",
    "            with open(texts_dir + key + '.txt', encoding=\"utf8\") as f:\n",
    "                text = \"\".join(f.readlines())\n",
    "                    \n",
    "        # if even that fails try with cp1252 encoding\n",
    "        except:    \n",
    "            try:\n",
    "                with open(texts_dir + key + '.txt', encoding=\"CP1252\") as f:\n",
    "                    text = \"\".join(f.readlines())\n",
    "                    \n",
    "            # if even that fails skip the specific character        \n",
    "            except:\n",
    "                with open(texts_dir + key + '.txt', errors = \"ignore\") as f:\n",
    "                    text = \"\".join(f.readlines())\n",
    "\n",
    "    # remove any potential \"\\n\" or \\'\n",
    "    text = text.replace(\"\\n\", \" \").replace(\"\\'\", \"\")\n",
    "\n",
    "    # remove any unnecessary spaces\n",
    "    text = \" \".join(text.split())\n",
    "\n",
    "    texts.loc[key] = text\n",
    "\n"
   ]
  },
  {
   "cell_type": "code",
   "execution_count": 12,
   "id": "40e6aae2",
   "metadata": {},
   "outputs": [],
   "source": [
    "texts.to_csv(\"Document_Text.csv\")"
   ]
  },
  {
   "cell_type": "code",
   "execution_count": 2,
   "id": "9d376a8f",
   "metadata": {},
   "outputs": [
    {
     "data": {
      "text/html": [
       "<div>\n",
       "<style scoped>\n",
       "    .dataframe tbody tr th:only-of-type {\n",
       "        vertical-align: middle;\n",
       "    }\n",
       "\n",
       "    .dataframe tbody tr th {\n",
       "        vertical-align: top;\n",
       "    }\n",
       "\n",
       "    .dataframe thead th {\n",
       "        text-align: right;\n",
       "    }\n",
       "</style>\n",
       "<table border=\"1\" class=\"dataframe\">\n",
       "  <thead>\n",
       "    <tr style=\"text-align: right;\">\n",
       "      <th></th>\n",
       "      <th>key</th>\n",
       "      <th>text</th>\n",
       "    </tr>\n",
       "  </thead>\n",
       "  <tbody>\n",
       "    <tr>\n",
       "      <th>0</th>\n",
       "      <td>00097ca8-b918-4dd3-99bf-9728d1fd5ee4</td>\n",
       "      <td>Bijlage 1 BI-zone 4 Merwedekanaalzone Zuid 2011</td>\n",
       "    </tr>\n",
       "    <tr>\n",
       "      <th>1</th>\n",
       "      <td>000c3f3c-4117-42e3-ba3e-45a5ccf028aa</td>\n",
       "      <td>Stand van zaken Moties, toezeggingen en brieve...</td>\n",
       "    </tr>\n",
       "    <tr>\n",
       "      <th>2</th>\n",
       "      <td>000f4c78-dccd-4b0f-b07d-3ba7973d66bd</td>\n",
       "      <td>NaN</td>\n",
       "    </tr>\n",
       "    <tr>\n",
       "      <th>3</th>\n",
       "      <td>000ff5f0-629c-4217-92c8-5ed2d3ac6d5b</td>\n",
       "      <td>03-04-19 14(21 ontwerpvoorstel aan de raad Opg...</td>\n",
       "    </tr>\n",
       "    <tr>\n",
       "      <th>4</th>\n",
       "      <td>00107e1b-7c6c-4147-b396-14c154fd5bb8</td>\n",
       "      <td>MPSO 2018 0HHUMDUHQ\u00033HUVSHFWLHI\u00036WHGHOLMNH\u00032QW...</td>\n",
       "    </tr>\n",
       "    <tr>\n",
       "      <th>...</th>\n",
       "      <td>...</td>\n",
       "      <td>...</td>\n",
       "    </tr>\n",
       "    <tr>\n",
       "      <th>23653</th>\n",
       "      <td>ffeb6932-2100-4147-a671-10f931b06a96</td>\n",
       "      <td>Bijlage 1 - Factsheets - Herprogrammering maat...</td>\n",
       "    </tr>\n",
       "    <tr>\n",
       "      <th>23654</th>\n",
       "      <td>fff60bef-9e93-47e3-9f11-8bd0941d084c</td>\n",
       "      <td>POS, september 2010 niveau van € 27,37 mio. De...</td>\n",
       "    </tr>\n",
       "    <tr>\n",
       "      <th>23655</th>\n",
       "      <td>fff65d87-1368-42a0-85a0-028a36b66820</td>\n",
       "      <td>StadsOntwikkeling Bijlage bestemmingsplan Best...</td>\n",
       "    </tr>\n",
       "    <tr>\n",
       "      <th>23656</th>\n",
       "      <td>fff9faf4-7f86-43af-a065-d803b85e1268</td>\n",
       "      <td>Verordening U-pas 2019 gemeente Utrecht De raa...</td>\n",
       "    </tr>\n",
       "    <tr>\n",
       "      <th>23657</th>\n",
       "      <td>ffff3a5f-58f5-466f-9910-3f2866c00ee4</td>\n",
       "      <td>! ontwerp raadsbesluit Voorstel B en W d.d. Ja...</td>\n",
       "    </tr>\n",
       "  </tbody>\n",
       "</table>\n",
       "<p>23658 rows × 2 columns</p>\n",
       "</div>"
      ],
      "text/plain": [
       "                                        key  \\\n",
       "0      00097ca8-b918-4dd3-99bf-9728d1fd5ee4   \n",
       "1      000c3f3c-4117-42e3-ba3e-45a5ccf028aa   \n",
       "2      000f4c78-dccd-4b0f-b07d-3ba7973d66bd   \n",
       "3      000ff5f0-629c-4217-92c8-5ed2d3ac6d5b   \n",
       "4      00107e1b-7c6c-4147-b396-14c154fd5bb8   \n",
       "...                                     ...   \n",
       "23653  ffeb6932-2100-4147-a671-10f931b06a96   \n",
       "23654  fff60bef-9e93-47e3-9f11-8bd0941d084c   \n",
       "23655  fff65d87-1368-42a0-85a0-028a36b66820   \n",
       "23656  fff9faf4-7f86-43af-a065-d803b85e1268   \n",
       "23657  ffff3a5f-58f5-466f-9910-3f2866c00ee4   \n",
       "\n",
       "                                                    text  \n",
       "0        Bijlage 1 BI-zone 4 Merwedekanaalzone Zuid 2011  \n",
       "1      Stand van zaken Moties, toezeggingen en brieve...  \n",
       "2                                                    NaN  \n",
       "3      03-04-19 14(21 ontwerpvoorstel aan de raad Opg...  \n",
       "4      MPSO 2018 0HHUMDUHQ\u00033HUVSHFWLHI\u00036WHGHOLMNH\u00032QW...  \n",
       "...                                                  ...  \n",
       "23653  Bijlage 1 - Factsheets - Herprogrammering maat...  \n",
       "23654  POS, september 2010 niveau van € 27,37 mio. De...  \n",
       "23655  StadsOntwikkeling Bijlage bestemmingsplan Best...  \n",
       "23656  Verordening U-pas 2019 gemeente Utrecht De raa...  \n",
       "23657  ! ontwerp raadsbesluit Voorstel B en W d.d. Ja...  \n",
       "\n",
       "[23658 rows x 2 columns]"
      ]
     },
     "execution_count": 2,
     "metadata": {},
     "output_type": "execute_result"
    }
   ],
   "source": [
    "texts = pd.read_csv(\"Document_Text.csv\")\n",
    "texts"
   ]
  }
 ],
 "metadata": {
  "kernelspec": {
   "display_name": "Python 3",
   "language": "python",
   "name": "python3"
  },
  "language_info": {
   "codemirror_mode": {
    "name": "ipython",
    "version": 3
   },
   "file_extension": ".py",
   "mimetype": "text/x-python",
   "name": "python",
   "nbconvert_exporter": "python",
   "pygments_lexer": "ipython3",
   "version": "3.8.5"
  }
 },
 "nbformat": 4,
 "nbformat_minor": 5
}
