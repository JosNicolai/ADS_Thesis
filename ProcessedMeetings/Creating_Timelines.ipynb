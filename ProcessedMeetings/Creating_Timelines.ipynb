{
 "cells": [
  {
   "cell_type": "code",
   "execution_count": 7,
   "id": "bf024a2d",
   "metadata": {},
   "outputs": [
    {
     "name": "stderr",
     "output_type": "stream",
     "text": [
      "C:\\Users\\SJNic\\Documents\\Programming\\Anaconda\\envs\\python38\\lib\\site-packages\\IPython\\core\\interactiveshell.py:3165: DtypeWarning: Columns (22,23,24,25,26,27,28,29,30,31,32,33,34,35,36,37,38,39,40,41,42,43,44,45,46,47,48,49,50,51,52,53,54,55,56,57,58,59,60,61,62,63,64,65,66,67,68,69,70,71,72,73,74,75,76,77,78,79,80,81,82,83,84,85,86,87,88,89,90,91,92,93,94,95,96,97,98,99,100,101,102,103,104,105,106,107,108,109,110,111) have mixed types.Specify dtype option on import or set low_memory=False.\n",
      "  has_raised = await self.run_ast_nodes(code_ast.body, cell_name,\n"
     ]
    }
   ],
   "source": [
    "# importing the necessary packages\n",
    "import numpy as np\n",
    "import pandas as pd\n",
    "import os\n",
    "import pickle\n",
    "\n",
    "\n",
    "# setting the main file path to where all files are\n",
    "os.chdir(\"C:\\\\Users\\\\SJNic\\\\Documents\\\\University\\\\Master\\\\Thesis\\\\Code\")\n",
    "\n",
    "# read the nonDuplicatesInformation\n",
    "with open(\"ProcessedMeetings/nonDuplicateDocumentsInformation.txt\", \"rb\") as fp:   \n",
    "    nonDuplicateDocumentsInformation = pickle.load(fp)\n",
    "\n",
    "# read the meetingsInformation\n",
    "with open(\"ProcessedMeetings/meetingsInformation.txt\", \"rb\") as fp:   \n",
    "    meetingsInformation = pickle.load(fp)\n",
    "    \n",
    "# read the itemsInformation\n",
    "with open(\"ProcessedMeetings/itemsInformation.txt\", \"rb\") as fp:   \n",
    "    itemsInformation = pickle.load(fp)\n",
    "    \n",
    "# read the documentsInformation\n",
    "with open(\"ProcessedMeetings/documentsInformation.txt\", \"rb\") as fp:   \n",
    "    documentsInformation = pickle.load(fp)\n",
    "\n",
    "item_meeting_match = pd.read_csv(\"ProcessedMeetings/item_meeting_match.csv\", index_col=0)\n",
    "shortest_paths = pd.read_csv(\"shortest_paths.csv\", index_col=0)\n",
    "document_item_match = pd.read_csv(\"ProcessedMeetings/document_item_match.csv\")"
   ]
  },
  {
   "cell_type": "markdown",
   "id": "f00ff44e",
   "metadata": {},
   "source": [
    "# Printing a timeline\n",
    "This will require a list of item IDs. It is also necessary to have loaded the itemMeetingMatch and meetingsInformation"
   ]
  },
  {
   "cell_type": "code",
   "execution_count": 2,
   "id": "7ed68af3",
   "metadata": {},
   "outputs": [],
   "source": [
    "def print_timeline(itemsList):\n",
    "    # loop through every item in the list\n",
    "    for item in itemsList:\n",
    "        item_info = itemsInformation[item]\n",
    "        print(\"Agenda Point:\\t\\t\", item_info[\"features\"], item_info[\"title\"])\n",
    "        \n",
    "        # find the meetinginfo for this docuemnt to show the data\n",
    "        meetingID = item_meeting_match.loc[item].values        \n",
    "        meeting = meetingsInformation[meetingID[0]]\n",
    "        print(\"Agenda point date: \\t\", meeting[\"meetingdate\"].split(\"T\")[0])\n",
    "        \n",
    "        print(\"Attached documents:\")\n",
    "        \n",
    "        docs = item_info[\"Documents\"]\n",
    "        if len(docs) > 0:\n",
    "            for doc in docs:\n",
    "                #print(doc)\n",
    "                print(\"\\t\\t\\t - \",documentsInformation[doc[\"id\"]][\"filename\"])\n",
    "        print(\"\\n_________________________________________________________________________________________________________________\")"
   ]
  },
  {
   "cell_type": "code",
   "execution_count": 3,
   "id": "6c7ccb7f",
   "metadata": {},
   "outputs": [
    {
     "data": {
      "text/plain": [
       "{'document id': '000ff5f0-629c-4217-92c8-5ed2d3ac6d5b',\n",
       " 'displayname': 'Ontwerpraadsvoorstel: Vaststelling bestemmingsplan Watervogelbuurt, Hoograven, Tolsteeg',\n",
       " 'filename': 'Ontwerpraadsvoorstel: Vaststelling bestemmingsplan Watervogelbuurt, Hoograven, Tolsteeg.pdf',\n",
       " 'filesize': '132001',\n",
       " 'publicdownloadurl': 'https://api1.ibabs.eu/publicdownload.aspx?site=Utrecht&id=000ff5f0-629c-4217-92c8-5ed2d3ac6d5b'}"
      ]
     },
     "execution_count": 3,
     "metadata": {},
     "output_type": "execute_result"
    }
   ],
   "source": [
    "documentsInformation[\"000ff5f0-629c-4217-92c8-5ed2d3ac6d5b\"]"
   ]
  },
  {
   "cell_type": "code",
   "execution_count": 10,
   "id": "90c2ed3b",
   "metadata": {},
   "outputs": [
    {
     "name": "stdout",
     "output_type": "stream",
     "text": [
      "Agenda Point:\t\t 6 Raadsvoorstel Utrecht Circulair 2020-2023 \n",
      "Agenda point date: \t 2020-10-29\n",
      "Attached documents:\n",
      "\t\t\t -  Dossier 1025 voorblad.pdf\n",
      "\t\t\t -  Voorstel_12315.pdf\n",
      "\t\t\t -  Utrecht Circulair 2020-2023.pdf\n",
      "\t\t\t -  Besluitenhistorie Utrecht Circulair.pdf\n",
      "\n",
      "_________________________________________________________________________________________________________________\n",
      "Agenda Point:\t\t 13 Raadsvoorstel Utrecht Circulair 2020-2023 \n",
      "Agenda point date: \t 2020-11-05\n",
      "Attached documents:\n",
      "\t\t\t -  Dossier 1025 voorblad.pdf\n",
      "\t\t\t -  Voorstel_12315.pdf\n",
      "\t\t\t -  Utrecht Circulair 2020-2023.pdf\n",
      "\t\t\t -  Besluitenhistorie Utrecht Circulair.pdf\n",
      "\t\t\t -  Raadsbesluit Utrecht Circulair 2020-2023.pdf\n",
      "\n",
      "_________________________________________________________________________________________________________________\n",
      "Agenda Point:\t\t 13.2 Raadsvoorstel Utrecht Circulair 2020-2023\n",
      "Agenda point date: \t 2020-11-05\n",
      "Attached documents:\n",
      "\t\t\t -  Voorstel_12315.pdf\n",
      "\n",
      "_________________________________________________________________________________________________________________\n",
      "Agenda Point:\t\t 1 Utrecht Circulair 2020-2023\n",
      "Agenda point date: \t 2020-03-08\n",
      "Attached documents:\n",
      "\t\t\t -  Voorstel_12315.pdf\n",
      "\t\t\t -  Utrecht Circulair 2020-2023.pdf\n",
      "\t\t\t -  Besluitenhistorie Utrecht Circulair.pdf\n",
      "\n",
      "_________________________________________________________________________________________________________________\n",
      "Agenda Point:\t\t 1.1 Raadsvoorstel Utrecht Circulair 2020-2023 \n",
      "Agenda point date: \t 2020-06-02\n",
      "Attached documents:\n",
      "\t\t\t -  Dossier 1025 voorblad.pdf\n",
      "\t\t\t -  Voorstel_12315.pdf\n",
      "\t\t\t -  Utrecht Circulair 2020-2023.pdf\n",
      "\t\t\t -  Besluitenhistorie Utrecht Circulair.pdf\n",
      "\n",
      "_________________________________________________________________________________________________________________\n",
      "Agenda Point:\t\t 5.1 Raadsvoorstel Utrecht Circulair 2020-2023\n",
      "Agenda point date: \t 2020-09-29\n",
      "Attached documents:\n",
      "\t\t\t -  Voorstel_12315.pdf\n",
      "\t\t\t -  Utrecht Circulair 2020-2023.pdf\n",
      "\t\t\t -  Besluitenhistorie Utrecht Circulair.pdf\n",
      "\n",
      "_________________________________________________________________________________________________________________\n"
     ]
    }
   ],
   "source": [
    "testKey = \"Voorstel_12315.pdf\"\n",
    "testKey2 = \"Dossier 1025 voorblad.pdf\"\n",
    "\n",
    "\n",
    "print_timeline(ureka_timelines[testKey])"
   ]
  },
  {
   "cell_type": "code",
   "execution_count": 148,
   "id": "2f33ddb8",
   "metadata": {},
   "outputs": [
    {
     "data": {
      "text/plain": [
       "['1e072b46-409f-4f8a-9b58-0fe32768a2d9',\n",
       " '69fa1234-d770-480e-bf10-b71da4248512',\n",
       " '6fe2ba0b-df45-4a14-870f-9b9d4b4a33b1',\n",
       " '1aa5b71f-f370-492e-8fdf-95d83f4dcefe',\n",
       " 'caaff37f-18ac-4d3a-923c-66148aa7d719',\n",
       " 'a5e665d8-696c-4200-93a4-1a814a161091']"
      ]
     },
     "execution_count": 148,
     "metadata": {},
     "output_type": "execute_result"
    }
   ],
   "source": [
    "ureka_timelines[testKey]"
   ]
  },
  {
   "cell_type": "markdown",
   "id": "cba821ab",
   "metadata": {},
   "source": [
    "# Timelines based on direct links"
   ]
  },
  {
   "cell_type": "code",
   "execution_count": 8,
   "id": "4c8e5904",
   "metadata": {},
   "outputs": [],
   "source": [
    "key = \"1aa5b71f-f370-492e-8fdf-95d83f4dcefe\""
   ]
  },
  {
   "cell_type": "code",
   "execution_count": 20,
   "id": "9d95a717",
   "metadata": {},
   "outputs": [
    {
     "data": {
      "text/plain": [
       "Index(['1e072b46-409f-4f8a-9b58-0fe32768a2d9',\n",
       "       '69fa1234-d770-480e-bf10-b71da4248512',\n",
       "       '6fe2ba0b-df45-4a14-870f-9b9d4b4a33b1',\n",
       "       'caaff37f-18ac-4d3a-923c-66148aa7d719'],\n",
       "      dtype='object')"
      ]
     },
     "execution_count": 20,
     "metadata": {},
     "output_type": "execute_result"
    }
   ],
   "source": [
    "test = shortest_paths.loc[key][shortest_paths.loc[key] > 0]\n",
    "test.index"
   ]
  },
  {
   "cell_type": "code",
   "execution_count": 3,
   "id": "0440aaaf",
   "metadata": {},
   "outputs": [],
   "source": [
    "def return_related_items(df, id, threshold):\n",
    "    Related_items = df.loc[id][df.loc[id] > threshold].index\n",
    "    print(\"The item given to this function:\\n\")    \n",
    "    [print(x, itemsInformation[id][x]) for x in itemsInformation[id]]\n",
    "    \n",
    "    print(\"\\nRelated item IDs:\")\n",
    "    [print(x) for x in Related_items]\n",
    "    \n",
    "    return Related_items\n"
   ]
  },
  {
   "cell_type": "code",
   "execution_count": 42,
   "id": "8cf55825",
   "metadata": {},
   "outputs": [
    {
     "name": "stdout",
     "output_type": "stream",
     "text": [
      "The item given to this function:\n",
      "\n",
      "item id 1aa5b71f-f370-492e-8fdf-95d83f4dcefe\n",
      "title Utrecht Circulair 2020-2023\n",
      "Documents [{'id': '5c7abeb6-41f1-4875-8e70-7e0f4fbc5622'}, {'id': '853cc5b5-f973-4a05-8045-b4e3319e3c91'}, {'id': 'e638d5f8-f0e8-44b0-9168-bde292150c73'}]\n",
      "features 1\n",
      "document {'id': 'e638d5f8-f0e8-44b0-9168-bde292150c73'}\n",
      "\n",
      "Related item IDs:\n",
      "1e072b46-409f-4f8a-9b58-0fe32768a2d9\n",
      "69fa1234-d770-480e-bf10-b71da4248512\n",
      "6fe2ba0b-df45-4a14-870f-9b9d4b4a33b1\n",
      "caaff37f-18ac-4d3a-923c-66148aa7d719\n"
     ]
    }
   ],
   "source": [
    "related_items = return_related_items(shortest_paths, \"1aa5b71f-f370-492e-8fdf-95d83f4dcefe\", 0)"
   ]
  },
  {
   "cell_type": "code",
   "execution_count": 4,
   "id": "c0a70307",
   "metadata": {},
   "outputs": [
    {
     "name": "stdout",
     "output_type": "stream",
     "text": [
      "The item given to this function:\n",
      "\n",
      "item id 3413b187-5521-4f1e-b9ab-4a66949741dd\n",
      "title Cie S&R Aanbieding rapport Stadsbreed onderzoek naar blokverwarming\n",
      "Documents [{'id': '343ad6be-8eb4-45cc-b215-7f13f9edf0d4'}, {'id': '0c2f7762-5d3d-4c8e-b75a-bfe2901ce695'}, {'id': '7c7eeaed-054b-4aff-a81e-3774fd08b177'}, {'id': '41a320bb-7f0e-4bac-9a75-b0768a59d4f5'}, {'id': 'b42ded3a-bd12-45a6-900c-e3c6cd23282e'}, {'id': '4f05e03f-eb1e-4b25-8511-c76bac41d531'}, {'id': 'f0487dda-7a28-4e2a-8388-16f4e7a14e00'}, {'id': '9151ea86-b344-4c51-8ae1-9cf54ebf29f3'}, {'id': '6e53ef1d-e184-4e1b-868c-d7932ac7fc87'}]\n",
      "features 1\n",
      "document {'id': '6e53ef1d-e184-4e1b-868c-d7932ac7fc87'}\n",
      "\n",
      "Related item IDs:\n"
     ]
    },
    {
     "data": {
      "text/plain": [
       "0"
      ]
     },
     "execution_count": 4,
     "metadata": {},
     "output_type": "execute_result"
    }
   ],
   "source": [
    "Related_items = return_related_items(shortest_paths, \"3413b187-5521-4f1e-b9ab-4a66949741dd\", 0)\n",
    "len(Related_items)"
   ]
  },
  {
   "cell_type": "code",
   "execution_count": 5,
   "id": "09568e42",
   "metadata": {},
   "outputs": [
    {
     "data": {
      "text/plain": [
       "15314"
      ]
     },
     "execution_count": 5,
     "metadata": {},
     "output_type": "execute_result"
    }
   ],
   "source": [
    "len(itemsInformation)"
   ]
  },
  {
   "cell_type": "code",
   "execution_count": 43,
   "id": "0209cc01",
   "metadata": {},
   "outputs": [
    {
     "name": "stdout",
     "output_type": "stream",
     "text": [
      "Agenda Point:\t\t 6 Raadsvoorstel Utrecht Circulair 2020-2023 \n",
      "Agenda point date: \t 2020-10-29\n",
      "Attached documents:\n",
      "\t\t\t -  Dossier 1025 voorblad.pdf\n",
      "\t\t\t -  Voorstel_12315.pdf\n",
      "\t\t\t -  Utrecht Circulair 2020-2023.pdf\n",
      "\t\t\t -  Besluitenhistorie Utrecht Circulair.pdf\n",
      "\n",
      "_________________________________________________________________________________________________________________\n",
      "Agenda Point:\t\t 13 Raadsvoorstel Utrecht Circulair 2020-2023 \n",
      "Agenda point date: \t 2020-11-05\n",
      "Attached documents:\n",
      "\t\t\t -  Dossier 1025 voorblad.pdf\n",
      "\t\t\t -  Voorstel_12315.pdf\n",
      "\t\t\t -  Utrecht Circulair 2020-2023.pdf\n",
      "\t\t\t -  Besluitenhistorie Utrecht Circulair.pdf\n",
      "\t\t\t -  Raadsbesluit Utrecht Circulair 2020-2023.pdf\n",
      "\n",
      "_________________________________________________________________________________________________________________\n",
      "Agenda Point:\t\t 13.2 Raadsvoorstel Utrecht Circulair 2020-2023\n",
      "Agenda point date: \t 2020-11-05\n",
      "Attached documents:\n",
      "\t\t\t -  Voorstel_12315.pdf\n",
      "\n",
      "_________________________________________________________________________________________________________________\n",
      "Agenda Point:\t\t 1.1 Raadsvoorstel Utrecht Circulair 2020-2023 \n",
      "Agenda point date: \t 2020-06-02\n",
      "Attached documents:\n",
      "\t\t\t -  Dossier 1025 voorblad.pdf\n",
      "\t\t\t -  Voorstel_12315.pdf\n",
      "\t\t\t -  Utrecht Circulair 2020-2023.pdf\n",
      "\t\t\t -  Besluitenhistorie Utrecht Circulair.pdf\n",
      "\n",
      "_________________________________________________________________________________________________________________\n"
     ]
    }
   ],
   "source": [
    "print_timeline(related_items)"
   ]
  },
  {
   "cell_type": "code",
   "execution_count": 44,
   "id": "eca6f6f6",
   "metadata": {},
   "outputs": [
    {
     "data": {
      "text/plain": [
       "15314"
      ]
     },
     "execution_count": 44,
     "metadata": {},
     "output_type": "execute_result"
    }
   ],
   "source": [
    "len(shortest_paths.columns)"
   ]
  },
  {
   "cell_type": "code",
   "execution_count": 92,
   "id": "57d5ab28",
   "metadata": {},
   "outputs": [],
   "source": [
    "#itemsInformation\n",
    "#meetingsInformation"
   ]
  },
  {
   "cell_type": "markdown",
   "id": "ae4fb5e5",
   "metadata": {},
   "source": [
    "# Recreating timelines from U-reka\n",
    "this first method is about creating a timeline the same way as U-reka dooes, which is via a proposal or cover page ID."
   ]
  },
  {
   "cell_type": "code",
   "execution_count": 3,
   "id": "c0a44b78",
   "metadata": {},
   "outputs": [],
   "source": [
    "proposals = {}\n",
    "cover_page = {}\n",
    "\n",
    "# loop through all document keys to find document titles with either voorblad or voorstel in it\n",
    "for key in documentsInformation.keys():\n",
    "    doc = documentsInformation[key]\n",
    "    \n",
    "    filename = doc[\"filename\"].lower().split()\n",
    "\n",
    "    # If the token voorblad.pdf or voorstel_ exists in the filename then save that key\n",
    "    for token in filename:\n",
    "        if \"voorblad.pdf\" in token:\n",
    "            cover_page[key] = doc[\"filename\"]\n",
    "\n",
    "        elif \"voorstel_\" in token:\n",
    "            proposals[key] = doc[\"filename\"]\n",
    "        "
   ]
  },
  {
   "cell_type": "code",
   "execution_count": 5,
   "id": "77a2c330",
   "metadata": {},
   "outputs": [],
   "source": [
    "ureka_timelines = {}\n",
    "\n",
    "# now create a timeline for the dossiers by adding the id of an item to the timeline of a dossier\n",
    "for key in itemsInformation.keys():\n",
    "    item = itemsInformation[key]\n",
    "    \n",
    "    docs = item[\"Documents\"]\n",
    "    \n",
    "    # if there even are documents loop through the documents\n",
    "    if len(docs) > 0:\n",
    "        for doc in docs:\n",
    "            \n",
    "            # check if this doc is a cover_page\n",
    "            if doc[\"id\"] in cover_page:\n",
    "                # check if the key already exists in the dictionary. If not add it otherwise append item key\n",
    "                if cover_page[doc[\"id\"]] in ureka_timelines:\n",
    "                    ureka_timelines.setdefault(cover_page[doc[\"id\"]], []).append(key)\n",
    "                else :\n",
    "                    ureka_timelines[cover_page[doc[\"id\"]]] = [key]\n",
    "            \n",
    "            # else check if it is in the posposals\n",
    "            elif doc[\"id\"] in proposals:\n",
    "                \n",
    "                # check if the key already exists in the dictionary. If not add it otherwise append item key\n",
    "                if proposals[doc[\"id\"]] in ureka_timelines:\n",
    "                    ureka_timelines.setdefault(proposals[doc[\"id\"]], []).append(key)\n",
    "                else :\n",
    "                    ureka_timelines[proposals[doc[\"id\"]]] = [key]"
   ]
  },
  {
   "cell_type": "markdown",
   "id": "df23ad08",
   "metadata": {},
   "source": [
    "# Saving the ureka timelines\n",
    "with open(\"ureka_timelines.txt\", \"wb\") as fp:\n",
    "    pickle.dump(ureka_timelines, fp)    "
   ]
  },
  {
   "cell_type": "code",
   "execution_count": null,
   "id": "12b2a4e5",
   "metadata": {},
   "outputs": [],
   "source": []
  }
 ],
 "metadata": {
  "kernelspec": {
   "display_name": "Python 3",
   "language": "python",
   "name": "python3"
  },
  "language_info": {
   "codemirror_mode": {
    "name": "ipython",
    "version": 3
   },
   "file_extension": ".py",
   "mimetype": "text/x-python",
   "name": "python",
   "nbconvert_exporter": "python",
   "pygments_lexer": "ipython3",
   "version": "3.8.5"
  }
 },
 "nbformat": 4,
 "nbformat_minor": 5
}
